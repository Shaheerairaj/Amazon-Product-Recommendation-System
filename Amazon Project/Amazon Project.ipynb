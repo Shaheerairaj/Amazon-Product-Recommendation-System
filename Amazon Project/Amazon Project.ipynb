{
 "cells": [
  {
   "cell_type": "markdown",
   "source": [
    "# Steps\r\n",
    "\r\n",
    "1. Find unique values, missing data, shape of df\r\n",
    "2. Visualize ratings\r\n",
    "3. Frequency plot of ratings\r\n",
    "4. How often was a product rated a particular rating\r\n",
    "5. Convert timestamp to something useable\r\n",
    "6. "
   ],
   "metadata": {}
  },
  {
   "cell_type": "code",
   "execution_count": 34,
   "source": [
    "#Importing Libraries\r\n",
    "\r\n",
    "import pandas as pd\r\n",
    "import numpy as np\r\n",
    "import matplotlib.pyplot as plt\r\n",
    "import seaborn as sns\r\n",
    "from datetime import datetime"
   ],
   "outputs": [],
   "metadata": {}
  },
  {
   "cell_type": "code",
   "execution_count": 35,
   "source": [
    "#Importing Data\r\n",
    "\r\n",
    "df = pd.read_csv('Datasets/Amazon Reviews.csv', names = ['User ID','Product ID','Rating','Time Stamp'], nrows=100000)\r\n",
    "df['Time Stamp'] = df['Time Stamp'].apply(lambda x:datetime.fromtimestamp(x))\r\n",
    "df = df.rename(columns={'Time Stamp':'Date'})\r\n",
    "df.head()"
   ],
   "outputs": [
    {
     "output_type": "execute_result",
     "data": {
      "text/plain": [
       "          User ID  Product ID  Rating                Date\n",
       "0   AKM1MP6P0OYPR  0132793040     5.0 2013-04-13 04:00:00\n",
       "1  A2CX7LUOHB2NDG  0321732944     5.0 2012-07-01 04:00:00\n",
       "2  A2NWSAGRHCP8N5  0439886341     1.0 2013-04-29 04:00:00\n",
       "3  A2WNBOD3WNDNKT  0439886341     3.0 2013-07-22 04:00:00\n",
       "4  A1GI0U4ZRJA8WN  0439886341     1.0 2012-04-18 04:00:00"
      ],
      "text/html": [
       "<div>\n",
       "<style scoped>\n",
       "    .dataframe tbody tr th:only-of-type {\n",
       "        vertical-align: middle;\n",
       "    }\n",
       "\n",
       "    .dataframe tbody tr th {\n",
       "        vertical-align: top;\n",
       "    }\n",
       "\n",
       "    .dataframe thead th {\n",
       "        text-align: right;\n",
       "    }\n",
       "</style>\n",
       "<table border=\"1\" class=\"dataframe\">\n",
       "  <thead>\n",
       "    <tr style=\"text-align: right;\">\n",
       "      <th></th>\n",
       "      <th>User ID</th>\n",
       "      <th>Product ID</th>\n",
       "      <th>Rating</th>\n",
       "      <th>Date</th>\n",
       "    </tr>\n",
       "  </thead>\n",
       "  <tbody>\n",
       "    <tr>\n",
       "      <th>0</th>\n",
       "      <td>AKM1MP6P0OYPR</td>\n",
       "      <td>0132793040</td>\n",
       "      <td>5.0</td>\n",
       "      <td>2013-04-13 04:00:00</td>\n",
       "    </tr>\n",
       "    <tr>\n",
       "      <th>1</th>\n",
       "      <td>A2CX7LUOHB2NDG</td>\n",
       "      <td>0321732944</td>\n",
       "      <td>5.0</td>\n",
       "      <td>2012-07-01 04:00:00</td>\n",
       "    </tr>\n",
       "    <tr>\n",
       "      <th>2</th>\n",
       "      <td>A2NWSAGRHCP8N5</td>\n",
       "      <td>0439886341</td>\n",
       "      <td>1.0</td>\n",
       "      <td>2013-04-29 04:00:00</td>\n",
       "    </tr>\n",
       "    <tr>\n",
       "      <th>3</th>\n",
       "      <td>A2WNBOD3WNDNKT</td>\n",
       "      <td>0439886341</td>\n",
       "      <td>3.0</td>\n",
       "      <td>2013-07-22 04:00:00</td>\n",
       "    </tr>\n",
       "    <tr>\n",
       "      <th>4</th>\n",
       "      <td>A1GI0U4ZRJA8WN</td>\n",
       "      <td>0439886341</td>\n",
       "      <td>1.0</td>\n",
       "      <td>2012-04-18 04:00:00</td>\n",
       "    </tr>\n",
       "  </tbody>\n",
       "</table>\n",
       "</div>"
      ]
     },
     "metadata": {},
     "execution_count": 35
    }
   ],
   "metadata": {}
  },
  {
   "cell_type": "code",
   "execution_count": 36,
   "source": [
    "df['Date'].dt.hour.value_counts()"
   ],
   "outputs": [
    {
     "output_type": "execute_result",
     "data": {
      "text/plain": [
       "4    100000\n",
       "Name: Date, dtype: int64"
      ]
     },
     "metadata": {},
     "execution_count": 36
    }
   ],
   "metadata": {}
  },
  {
   "cell_type": "markdown",
   "source": [
    "### Since the time part of the time stamp is all at the same exact time we can omit it from the column"
   ],
   "metadata": {}
  },
  {
   "cell_type": "code",
   "execution_count": 37,
   "source": [
    "df['Date'] = df['Date'].dt.date\r\n",
    "df.head()"
   ],
   "outputs": [
    {
     "output_type": "execute_result",
     "data": {
      "text/plain": [
       "          User ID  Product ID  Rating        Date\n",
       "0   AKM1MP6P0OYPR  0132793040     5.0  2013-04-13\n",
       "1  A2CX7LUOHB2NDG  0321732944     5.0  2012-07-01\n",
       "2  A2NWSAGRHCP8N5  0439886341     1.0  2013-04-29\n",
       "3  A2WNBOD3WNDNKT  0439886341     3.0  2013-07-22\n",
       "4  A1GI0U4ZRJA8WN  0439886341     1.0  2012-04-18"
      ],
      "text/html": [
       "<div>\n",
       "<style scoped>\n",
       "    .dataframe tbody tr th:only-of-type {\n",
       "        vertical-align: middle;\n",
       "    }\n",
       "\n",
       "    .dataframe tbody tr th {\n",
       "        vertical-align: top;\n",
       "    }\n",
       "\n",
       "    .dataframe thead th {\n",
       "        text-align: right;\n",
       "    }\n",
       "</style>\n",
       "<table border=\"1\" class=\"dataframe\">\n",
       "  <thead>\n",
       "    <tr style=\"text-align: right;\">\n",
       "      <th></th>\n",
       "      <th>User ID</th>\n",
       "      <th>Product ID</th>\n",
       "      <th>Rating</th>\n",
       "      <th>Date</th>\n",
       "    </tr>\n",
       "  </thead>\n",
       "  <tbody>\n",
       "    <tr>\n",
       "      <th>0</th>\n",
       "      <td>AKM1MP6P0OYPR</td>\n",
       "      <td>0132793040</td>\n",
       "      <td>5.0</td>\n",
       "      <td>2013-04-13</td>\n",
       "    </tr>\n",
       "    <tr>\n",
       "      <th>1</th>\n",
       "      <td>A2CX7LUOHB2NDG</td>\n",
       "      <td>0321732944</td>\n",
       "      <td>5.0</td>\n",
       "      <td>2012-07-01</td>\n",
       "    </tr>\n",
       "    <tr>\n",
       "      <th>2</th>\n",
       "      <td>A2NWSAGRHCP8N5</td>\n",
       "      <td>0439886341</td>\n",
       "      <td>1.0</td>\n",
       "      <td>2013-04-29</td>\n",
       "    </tr>\n",
       "    <tr>\n",
       "      <th>3</th>\n",
       "      <td>A2WNBOD3WNDNKT</td>\n",
       "      <td>0439886341</td>\n",
       "      <td>3.0</td>\n",
       "      <td>2013-07-22</td>\n",
       "    </tr>\n",
       "    <tr>\n",
       "      <th>4</th>\n",
       "      <td>A1GI0U4ZRJA8WN</td>\n",
       "      <td>0439886341</td>\n",
       "      <td>1.0</td>\n",
       "      <td>2012-04-18</td>\n",
       "    </tr>\n",
       "  </tbody>\n",
       "</table>\n",
       "</div>"
      ]
     },
     "metadata": {},
     "execution_count": 37
    }
   ],
   "metadata": {}
  },
  {
   "cell_type": "markdown",
   "source": [
    "# Data Exploration"
   ],
   "metadata": {}
  },
  {
   "cell_type": "code",
   "execution_count": 38,
   "source": [
    "print('Rows     :',df.shape[0])\r\n",
    "print('Columns  :',df.shape[1])\r\n",
    "print('\\nFeatures :\\n     :',df.columns.tolist())\r\n",
    "print('\\nMissing values    :',df.isnull().values.sum())\r\n",
    "print('\\nUnique values :\\n',df.nunique())\r\n",
    "print('\\nMissing values in columns:\\n',df.isnull().sum())\r\n",
    "print('\\nDuplicated rows: \\n',df.duplicated().value_counts())\r\n",
    "print('\\nData Types of each column: \\n', df.dtypes)"
   ],
   "outputs": [
    {
     "output_type": "stream",
     "name": "stdout",
     "text": [
      "Rows     : 100000\n",
      "Columns  : 4\n",
      "\n",
      "Features :\n",
      "     : ['User ID', 'Product ID', 'Rating', 'Date']\n",
      "\n",
      "Missing values    : 0\n",
      "\n",
      "Unique values :\n",
      " User ID       89938\n",
      "Product ID     6918\n",
      "Rating            5\n",
      "Date           5477\n",
      "dtype: int64\n",
      "\n",
      "Missing values in columns:\n",
      " User ID       0\n",
      "Product ID    0\n",
      "Rating        0\n",
      "Date          0\n",
      "dtype: int64\n",
      "\n",
      "Duplicated rows: \n",
      " False    100000\n",
      "dtype: int64\n",
      "\n",
      "Data Types of each column: \n",
      " User ID        object\n",
      "Product ID     object\n",
      "Rating        float64\n",
      "Date           object\n",
      "dtype: object\n"
     ]
    }
   ],
   "metadata": {}
  },
  {
   "cell_type": "markdown",
   "source": [
    "# Data Visualization"
   ],
   "metadata": {}
  },
  {
   "cell_type": "code",
   "execution_count": 4,
   "source": [
    "plt.figure(figsize=(15,6))\r\n",
    "sns.countplot(data = df, x = 'Rating', palette = 'winter')"
   ],
   "outputs": [
    {
     "output_type": "execute_result",
     "data": {
      "text/plain": [
       "<AxesSubplot:xlabel='Rating', ylabel='count'>"
      ]
     },
     "metadata": {},
     "execution_count": 4
    },
    {
     "output_type": "display_data",
     "data": {
      "text/plain": [
       "<Figure size 1080x432 with 1 Axes>"
      ],
      "image/png": "[encoded data removed]"
     },
     "metadata": {
      "needs_background": "light"
     }
    }
   ],
   "metadata": {}
  },
  {
   "cell_type": "markdown",
   "source": [
    "## Number of User Ratings"
   ],
   "metadata": {}
  },
  {
   "cell_type": "code",
   "execution_count": 11,
   "source": [
    "number_of_ratings = df.groupby('User ID')['Rating'].count().sort_values(ascending=False)\r\n",
    "\r\n",
    "plt.figure(figsize=(15,6))\r\n",
    "plt.plot(number_of_ratings.values)"
   ],
   "outputs": [
    {
     "output_type": "execute_result",
     "data": {
      "text/plain": [
       "[<matplotlib.lines.Line2D at 0x1cd5dba4a00>]"
      ]
     },
     "metadata": {},
     "execution_count": 11
    },
    {
     "output_type": "display_data",
     "data": {
      "text/plain": [
       "<Figure size 1080x432 with 1 Axes>"
      ],
      "image/png": "[encoded data removed]"
     },
     "metadata": {
      "needs_background": "light"
     }
    }
   ],
   "metadata": {}
  },
  {
   "cell_type": "markdown",
   "source": [
    "Above we can see the number of ratings each user has given in the data set. The maximum rating any user has given is **Max Number**"
   ],
   "metadata": {}
  },
  {
   "cell_type": "markdown",
   "source": [
    "## Time Series Visualizations"
   ],
   "metadata": {}
  },
  {
   "cell_type": "markdown",
   "source": [
    "1. How the number of orders changed throughout time\r\n",
    "2. What time of the year is busiest\r\n",
    "3. How correlated are the number of orders with holidays\r\n",
    "4. How many products are ordered throughout the week. Are there higher numbers during weekends than weekdays?\r\n",
    "5. For how many days of the month do we have data?\r\n",
    "6. For ease f visualizations take time for only the past decade."
   ],
   "metadata": {}
  },
  {
   "cell_type": "code",
   "execution_count": 27,
   "source": [
    "\r\n",
    "#Set the time stamp as the index\r\n",
    "df.reset_index(drop=True,inplace=True)\r\n",
    "df.sort_values('Date', ascending=True,inplace=True)\r\n",
    "df.set_index('Date',inplace=True)\r\n",
    "df.head()"
   ],
   "outputs": [
    {
     "output_type": "execute_result",
     "data": {
      "text/plain": [
       "                   User ID  Product ID  Rating\n",
       "Date                                          \n",
       "1998-12-04  A2ZUNCI13N2OUL  B00000DM9D     4.0\n",
       "1998-12-07  A28AXJL31RXUON  B00000DM9M     4.0\n",
       "1998-12-18   AFHLJPG5ZIMNO  B00000DM96     5.0\n",
       "1998-12-26   AY2NE9ZEZ5LCE  B00000DM9D     5.0\n",
       "1999-05-02  A2LG0LV5RI86F0  B00000DM93     5.0"
      ],
      "text/html": [
       "<div>\n",
       "<style scoped>\n",
       "    .dataframe tbody tr th:only-of-type {\n",
       "        vertical-align: middle;\n",
       "    }\n",
       "\n",
       "    .dataframe tbody tr th {\n",
       "        vertical-align: top;\n",
       "    }\n",
       "\n",
       "    .dataframe thead th {\n",
       "        text-align: right;\n",
       "    }\n",
       "</style>\n",
       "<table border=\"1\" class=\"dataframe\">\n",
       "  <thead>\n",
       "    <tr style=\"text-align: right;\">\n",
       "      <th></th>\n",
       "      <th>User ID</th>\n",
       "      <th>Product ID</th>\n",
       "      <th>Rating</th>\n",
       "    </tr>\n",
       "    <tr>\n",
       "      <th>Date</th>\n",
       "      <th></th>\n",
       "      <th></th>\n",
       "      <th></th>\n",
       "    </tr>\n",
       "  </thead>\n",
       "  <tbody>\n",
       "    <tr>\n",
       "      <th>1998-12-04</th>\n",
       "      <td>A2ZUNCI13N2OUL</td>\n",
       "      <td>B00000DM9D</td>\n",
       "      <td>4.0</td>\n",
       "    </tr>\n",
       "    <tr>\n",
       "      <th>1998-12-07</th>\n",
       "      <td>A28AXJL31RXUON</td>\n",
       "      <td>B00000DM9M</td>\n",
       "      <td>4.0</td>\n",
       "    </tr>\n",
       "    <tr>\n",
       "      <th>1998-12-18</th>\n",
       "      <td>AFHLJPG5ZIMNO</td>\n",
       "      <td>B00000DM96</td>\n",
       "      <td>5.0</td>\n",
       "    </tr>\n",
       "    <tr>\n",
       "      <th>1998-12-26</th>\n",
       "      <td>AY2NE9ZEZ5LCE</td>\n",
       "      <td>B00000DM9D</td>\n",
       "      <td>5.0</td>\n",
       "    </tr>\n",
       "    <tr>\n",
       "      <th>1999-05-02</th>\n",
       "      <td>A2LG0LV5RI86F0</td>\n",
       "      <td>B00000DM93</td>\n",
       "      <td>5.0</td>\n",
       "    </tr>\n",
       "  </tbody>\n",
       "</table>\n",
       "</div>"
      ]
     },
     "metadata": {},
     "execution_count": 27
    }
   ],
   "metadata": {}
  },
  {
   "cell_type": "markdown",
   "source": [
    "We can already begin to see that there are gaps in the dates. We do not have data for all days of the months."
   ],
   "metadata": {}
  },
  {
   "cell_type": "code",
   "execution_count": 46,
   "source": [
    "sns.countplot(data=df, x='Date', palette='winter')"
   ],
   "outputs": [
    {
     "output_type": "execute_result",
     "data": {
      "text/plain": [
       "<AxesSubplot:xlabel='Date', ylabel='count'>"
      ]
     },
     "metadata": {},
     "execution_count": 46
    },
    {
     "output_type": "display_data",
     "data": {
      "text/plain": [
       "<Figure size 432x288 with 1 Axes>"
      ],
      "image/png": "[encoded data removed]"
     },
     "metadata": {
      "needs_background": "light"
     }
    }
   ],
   "metadata": {}
  },
  {
   "cell_type": "code",
   "execution_count": 45,
   "source": [
    "df.groupby('Date').count()"
   ],
   "outputs": [
    {
     "output_type": "execute_result",
     "data": {
      "text/plain": [
       "            User ID  Product ID  Rating\n",
       "Date                                   \n",
       "1998-12-04        1           1       1\n",
       "1998-12-07        1           1       1\n",
       "1998-12-18        1           1       1\n",
       "1998-12-26        1           1       1\n",
       "1999-05-02        1           1       1\n",
       "...             ...         ...     ...\n",
       "2014-07-18       11          11      11\n",
       "2014-07-19        6           6       6\n",
       "2014-07-20       18          18      18\n",
       "2014-07-21       13          13      13\n",
       "2014-07-22       14          14      14\n",
       "\n",
       "[5477 rows x 3 columns]"
      ],
      "text/html": [
       "<div>\n",
       "<style scoped>\n",
       "    .dataframe tbody tr th:only-of-type {\n",
       "        vertical-align: middle;\n",
       "    }\n",
       "\n",
       "    .dataframe tbody tr th {\n",
       "        vertical-align: top;\n",
       "    }\n",
       "\n",
       "    .dataframe thead th {\n",
       "        text-align: right;\n",
       "    }\n",
       "</style>\n",
       "<table border=\"1\" class=\"dataframe\">\n",
       "  <thead>\n",
       "    <tr style=\"text-align: right;\">\n",
       "      <th></th>\n",
       "      <th>User ID</th>\n",
       "      <th>Product ID</th>\n",
       "      <th>Rating</th>\n",
       "    </tr>\n",
       "    <tr>\n",
       "      <th>Date</th>\n",
       "      <th></th>\n",
       "      <th></th>\n",
       "      <th></th>\n",
       "    </tr>\n",
       "  </thead>\n",
       "  <tbody>\n",
       "    <tr>\n",
       "      <th>1998-12-04</th>\n",
       "      <td>1</td>\n",
       "      <td>1</td>\n",
       "      <td>1</td>\n",
       "    </tr>\n",
       "    <tr>\n",
       "      <th>1998-12-07</th>\n",
       "      <td>1</td>\n",
       "      <td>1</td>\n",
       "      <td>1</td>\n",
       "    </tr>\n",
       "    <tr>\n",
       "      <th>1998-12-18</th>\n",
       "      <td>1</td>\n",
       "      <td>1</td>\n",
       "      <td>1</td>\n",
       "    </tr>\n",
       "    <tr>\n",
       "      <th>1998-12-26</th>\n",
       "      <td>1</td>\n",
       "      <td>1</td>\n",
       "      <td>1</td>\n",
       "    </tr>\n",
       "    <tr>\n",
       "      <th>1999-05-02</th>\n",
       "      <td>1</td>\n",
       "      <td>1</td>\n",
       "      <td>1</td>\n",
       "    </tr>\n",
       "    <tr>\n",
       "      <th>...</th>\n",
       "      <td>...</td>\n",
       "      <td>...</td>\n",
       "      <td>...</td>\n",
       "    </tr>\n",
       "    <tr>\n",
       "      <th>2014-07-18</th>\n",
       "      <td>11</td>\n",
       "      <td>11</td>\n",
       "      <td>11</td>\n",
       "    </tr>\n",
       "    <tr>\n",
       "      <th>2014-07-19</th>\n",
       "      <td>6</td>\n",
       "      <td>6</td>\n",
       "      <td>6</td>\n",
       "    </tr>\n",
       "    <tr>\n",
       "      <th>2014-07-20</th>\n",
       "      <td>18</td>\n",
       "      <td>18</td>\n",
       "      <td>18</td>\n",
       "    </tr>\n",
       "    <tr>\n",
       "      <th>2014-07-21</th>\n",
       "      <td>13</td>\n",
       "      <td>13</td>\n",
       "      <td>13</td>\n",
       "    </tr>\n",
       "    <tr>\n",
       "      <th>2014-07-22</th>\n",
       "      <td>14</td>\n",
       "      <td>14</td>\n",
       "      <td>14</td>\n",
       "    </tr>\n",
       "  </tbody>\n",
       "</table>\n",
       "<p>5477 rows × 3 columns</p>\n",
       "</div>"
      ]
     },
     "metadata": {},
     "execution_count": 45
    }
   ],
   "metadata": {}
  },
  {
   "cell_type": "code",
   "execution_count": null,
   "source": [],
   "outputs": [],
   "metadata": {}
  },
  {
   "cell_type": "code",
   "execution_count": null,
   "source": [],
   "outputs": [],
   "metadata": {}
  }
 ],
 "metadata": {
  "orig_nbformat": 4,
  "language_info": {
   "name": "python",
   "version": "3.9.4",
   "mimetype": "text/x-python",
   "codemirror_mode": {
    "name": "ipython",
    "version": 3
   },
   "pygments_lexer": "ipython3",
   "nbconvert_exporter": "python",
   "file_extension": ".py"
  },
  "kernelspec": {
   "name": "python3",
   "display_name": "Python 3.9.4 64-bit ('BootCamp': conda)"
  },
  "interpreter": {
   "hash": "d4d72c9e703bb67669aa57485e1555142b02d9a75c5ba9e912b96ebea99c0e89"
  }
 },
 "nbformat": 4,
 "nbformat_minor": 2
}